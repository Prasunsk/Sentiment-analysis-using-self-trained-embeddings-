{
  "nbformat": 4,
  "nbformat_minor": 0,
  "metadata": {
    "kernelspec": {
      "display_name": "Python 3",
      "language": "python",
      "name": "python3"
    },
    "language_info": {
      "codemirror_mode": {
        "name": "ipython",
        "version": 3
      },
      "file_extension": ".py",
      "mimetype": "text/x-python",
      "name": "python",
      "nbconvert_exporter": "python",
      "pygments_lexer": "ipython3",
      "version": "3.8.3"
    },
    "colab": {
      "name": "Question 2 and 4.ipynb",
      "provenance": []
    },
    "accelerator": "GPU"
  },
  "cells": [
    {
      "cell_type": "code",
      "metadata": {
        "id": "REFf-yH5Te9K",
        "outputId": "9828d34a-e504-4fa7-a8ca-9665c7b28aff",
        "colab": {
          "base_uri": "https://localhost:8080/"
        }
      },
      "source": [
        "from google.colab import drive\n",
        "drive.mount('/content/drive')"
      ],
      "execution_count": 1,
      "outputs": [
        {
          "output_type": "stream",
          "text": [
            "Mounted at /content/drive\n"
          ],
          "name": "stdout"
        }
      ]
    },
    {
      "cell_type": "code",
      "metadata": {
        "_cell_guid": "b1076dfc-b9ad-4769-8c92-a6c4dae69d19",
        "_uuid": "8f2839f25d086af736a60e9eeb907d3b93b6e0e5",
        "id": "25A1QEHhTQBe"
      },
      "source": [
        "import numpy as np # linear algebra\n",
        "import pandas as pd # data processing, CSV file I/O (e.g. pd.read_csv)"
      ],
      "execution_count": 2,
      "outputs": []
    },
    {
      "cell_type": "code",
      "metadata": {
        "_cell_guid": "79c7e3d0-c299-4dcb-8224-4455121ee9b0",
        "_uuid": "d629ff2d2480ee46fbb7e2d37f6b5fab8052498a",
        "id": "XMnayrTqTQCC"
      },
      "source": [
        "# df=pd.read_csv(\"/kaggle/input/imdb-dataset-of-50k-movie-reviews/IMDB Dataset.csv\")"
      ],
      "execution_count": 3,
      "outputs": []
    },
    {
      "cell_type": "code",
      "metadata": {
        "id": "5QbE_NlYUIkx",
        "outputId": "5770c7c6-9cce-41ca-f5fa-f8cac0d52a1a",
        "colab": {
          "base_uri": "https://localhost:8080/"
        }
      },
      "source": [
        "from nltk.stem import WordNetLemmatizer\n",
        "import nltk\n",
        "from nltk.corpus import stopwords\n",
        "nltk.download('wordnet')\n",
        "nltk.download('stopwords')"
      ],
      "execution_count": 4,
      "outputs": [
        {
          "output_type": "stream",
          "text": [
            "[nltk_data] Downloading package wordnet to /root/nltk_data...\n",
            "[nltk_data]   Unzipping corpora/wordnet.zip.\n",
            "[nltk_data] Downloading package stopwords to /root/nltk_data...\n",
            "[nltk_data]   Unzipping corpora/stopwords.zip.\n"
          ],
          "name": "stdout"
        },
        {
          "output_type": "execute_result",
          "data": {
            "text/plain": [
              "True"
            ]
          },
          "metadata": {
            "tags": []
          },
          "execution_count": 4
        }
      ]
    },
    {
      "cell_type": "code",
      "metadata": {
        "id": "FJoieMMxTnUi"
      },
      "source": [
        "data_path = '/content/drive/My Drive/AML_Assignment_2/IMDB Dataset.csv'\n",
        "df=pd.read_csv(data_path)"
      ],
      "execution_count": 5,
      "outputs": []
    },
    {
      "cell_type": "code",
      "metadata": {
        "id": "9SF0AgHrTQCg",
        "outputId": "e56167e1-3ac5-43b6-c37f-bdef573be1f6",
        "colab": {
          "base_uri": "https://localhost:8080/",
          "height": 196
        }
      },
      "source": [
        "df.head()"
      ],
      "execution_count": 6,
      "outputs": [
        {
          "output_type": "execute_result",
          "data": {
            "text/html": [
              "<div>\n",
              "<style scoped>\n",
              "    .dataframe tbody tr th:only-of-type {\n",
              "        vertical-align: middle;\n",
              "    }\n",
              "\n",
              "    .dataframe tbody tr th {\n",
              "        vertical-align: top;\n",
              "    }\n",
              "\n",
              "    .dataframe thead th {\n",
              "        text-align: right;\n",
              "    }\n",
              "</style>\n",
              "<table border=\"1\" class=\"dataframe\">\n",
              "  <thead>\n",
              "    <tr style=\"text-align: right;\">\n",
              "      <th></th>\n",
              "      <th>review</th>\n",
              "      <th>sentiment</th>\n",
              "    </tr>\n",
              "  </thead>\n",
              "  <tbody>\n",
              "    <tr>\n",
              "      <th>0</th>\n",
              "      <td>One of the other reviewers has mentioned that ...</td>\n",
              "      <td>positive</td>\n",
              "    </tr>\n",
              "    <tr>\n",
              "      <th>1</th>\n",
              "      <td>A wonderful little production. &lt;br /&gt;&lt;br /&gt;The...</td>\n",
              "      <td>positive</td>\n",
              "    </tr>\n",
              "    <tr>\n",
              "      <th>2</th>\n",
              "      <td>I thought this was a wonderful way to spend ti...</td>\n",
              "      <td>positive</td>\n",
              "    </tr>\n",
              "    <tr>\n",
              "      <th>3</th>\n",
              "      <td>Basically there's a family where a little boy ...</td>\n",
              "      <td>negative</td>\n",
              "    </tr>\n",
              "    <tr>\n",
              "      <th>4</th>\n",
              "      <td>Petter Mattei's \"Love in the Time of Money\" is...</td>\n",
              "      <td>positive</td>\n",
              "    </tr>\n",
              "  </tbody>\n",
              "</table>\n",
              "</div>"
            ],
            "text/plain": [
              "                                              review sentiment\n",
              "0  One of the other reviewers has mentioned that ...  positive\n",
              "1  A wonderful little production. <br /><br />The...  positive\n",
              "2  I thought this was a wonderful way to spend ti...  positive\n",
              "3  Basically there's a family where a little boy ...  negative\n",
              "4  Petter Mattei's \"Love in the Time of Money\" is...  positive"
            ]
          },
          "metadata": {
            "tags": []
          },
          "execution_count": 6
        }
      ]
    },
    {
      "cell_type": "code",
      "metadata": {
        "id": "LciKzH37TQCu"
      },
      "source": [
        "#sentiment count\n",
        "df['sentiment'] = df['sentiment'].map({'positive': 1, 'negative': 0})"
      ],
      "execution_count": 7,
      "outputs": []
    },
    {
      "cell_type": "code",
      "metadata": {
        "id": "M3oBiZCETQDA",
        "outputId": "e41806fb-18cd-4093-89ab-ae5e518102bb",
        "colab": {
          "base_uri": "https://localhost:8080/"
        }
      },
      "source": [
        "#split the dataset  \n",
        "#train dataset\n",
        "train_reviews=df.review[:40000]\n",
        "train_sentiments=df.sentiment[:40000]\n",
        "#test dataset\n",
        "test_reviews=df.review[40000:]\n",
        "test_sentiments=df.sentiment[40000:]\n",
        "print(train_reviews.shape,train_sentiments.shape)\n",
        "print(test_reviews.shape,test_sentiments.shape)"
      ],
      "execution_count": 8,
      "outputs": [
        {
          "output_type": "stream",
          "text": [
            "(40000,) (40000,)\n",
            "(10000,) (10000,)\n"
          ],
          "name": "stdout"
        }
      ]
    },
    {
      "cell_type": "markdown",
      "metadata": {
        "id": "rc014osSTQDV"
      },
      "source": [
        "**Removing html strips and noise text**"
      ]
    },
    {
      "cell_type": "code",
      "metadata": {
        "id": "tJ_jjkjnTQDe"
      },
      "source": [
        "import re\n",
        "#Removing the html strips\n",
        "def strip_html(text):\n",
        "    p = re.compile(r'<.*?>')\n",
        "    return p.sub(' ', text)\n",
        "\n",
        "#Removing the square brackets\n",
        "def remove_between_square_brackets(text):\n",
        "    return re.sub('\\[[^]]*\\]', '', text)\n",
        "\n",
        "#Removing the noisy text\n",
        "def denoise_text(text):\n",
        "    text = strip_html(text)\n",
        "    text = remove_between_square_brackets(text)\n",
        "    return text\n",
        "#Apply function on review column\n",
        "df['mod_review']=df['review'].apply(denoise_text)"
      ],
      "execution_count": 9,
      "outputs": []
    },
    {
      "cell_type": "markdown",
      "metadata": {
        "id": "Rh90_2GlTQD8"
      },
      "source": [
        "**Removing special characters**"
      ]
    },
    {
      "cell_type": "code",
      "metadata": {
        "id": "QO47KMu4TQEJ"
      },
      "source": [
        "def remove_special_characters(text, remove_digits=True):\n",
        "    pattern=r'[^a-zA-Z0-9\\s]'\n",
        "    text=re.sub(pattern,' ',text)\n",
        "    return text\n",
        "#Apply function on review column\n",
        "df['mod_review']=df['mod_review'].apply(remove_special_characters)"
      ],
      "execution_count": 10,
      "outputs": []
    },
    {
      "cell_type": "markdown",
      "metadata": {
        "id": "8il68yoOTQEo"
      },
      "source": [
        "**Removing stopwords**"
      ]
    },
    {
      "cell_type": "code",
      "metadata": {
        "id": "zplZ6xvwTQEv"
      },
      "source": [
        "stopword_list=nltk.corpus.stopwords.words('english')"
      ],
      "execution_count": 11,
      "outputs": []
    },
    {
      "cell_type": "code",
      "metadata": {
        "id": "k3zq0k0UTQFt"
      },
      "source": [
        "from nltk.stem import WordNetLemmatizer\n",
        "\n",
        "stop_words = set(stopwords.words(\"english\")) \n",
        "lemmatizer = WordNetLemmatizer()\n",
        "\n",
        "\n",
        "def lemmatize_text(text):\n",
        "    text = text.lower()\n",
        "    text = [lemmatizer.lemmatize(token) for token in text.split(\" \")]\n",
        "    text = [lemmatizer.lemmatize(token, \"v\") for token in text]\n",
        "    text = [word for word in text if not word in stop_words]\n",
        "    text = \" \".join(text)\n",
        "    return text\n",
        "\n",
        "df['mod_review'] = df['mod_review'].apply(lemmatize_text)"
      ],
      "execution_count": 12,
      "outputs": []
    },
    {
      "cell_type": "code",
      "metadata": {
        "id": "NORsiwVrTQGI",
        "outputId": "c4307a9b-2c45-4c78-9555-193deced35c1",
        "colab": {
          "base_uri": "https://localhost:8080/"
        }
      },
      "source": [
        "df['mod_review'].apply(lambda x: len(x.split(\" \"))).max()"
      ],
      "execution_count": 13,
      "outputs": [
        {
          "output_type": "execute_result",
          "data": {
            "text/plain": [
              "1713"
            ]
          },
          "metadata": {
            "tags": []
          },
          "execution_count": 13
        }
      ]
    },
    {
      "cell_type": "code",
      "metadata": {
        "id": "1jpC7IhyTQG8",
        "outputId": "26696cfe-9c6b-4aa3-ebf9-b9eb9b80237d",
        "colab": {
          "base_uri": "https://localhost:8080/"
        }
      },
      "source": [
        "df['mod_review'].apply(lambda x: len(x.split(\" \"))).mean()"
      ],
      "execution_count": 14,
      "outputs": [
        {
          "output_type": "execute_result",
          "data": {
            "text/plain": [
              "158.49064"
            ]
          },
          "metadata": {
            "tags": []
          },
          "execution_count": 14
        }
      ]
    },
    {
      "cell_type": "code",
      "metadata": {
        "id": "w0gWRFrvTQHU"
      },
      "source": [
        "from keras.preprocessing.text import Tokenizer\n",
        "from keras.preprocessing.sequence import pad_sequences\n",
        "from keras.layers import Dense , Input , LSTM , Embedding, Dropout , Activation, GRU, Flatten\n",
        "from keras.layers import Bidirectional, GlobalMaxPool1D\n",
        "from keras.models import Model, Sequential\n",
        "from keras.layers import Convolution1D\n",
        "from keras import initializers, regularizers, constraints, optimizers, layers"
      ],
      "execution_count": 15,
      "outputs": []
    },
    {
      "cell_type": "markdown",
      "metadata": {
        "id": "9QhvUE6gTQID"
      },
      "source": [
        "**TOKENIZER FIT**:-Updates internal vocabulary based on a list of texts. This method creates the vocabulary index based on word frequency. So if you give it something like, \"The cat sat on the mat.\" It will create a dictionary s.t. word_index[\"the\"] = 1; word_index[\"cat\"] = 2 it is word -> index dictionary so every word gets a unique integer value. 0 is reserved for padding. So lower integer means more frequent word (often the first few are stop words because they appear a lot)."
      ]
    },
    {
      "cell_type": "markdown",
      "metadata": {
        "id": "X9ffW6FATQI0"
      },
      "source": [
        "**TEXT TO SEQUENCES:**Transforms each text in texts to a sequence of integers. So it basically takes each word in the text and replaces it with its corresponding integer value from the word_index dictionary. Nothing more, nothing less, certainly no magic involved."
      ]
    },
    {
      "cell_type": "code",
      "metadata": {
        "id": "VkGTS3iqTQI6"
      },
      "source": [
        "max_features = 6000\n",
        "tokenizer = Tokenizer(num_words=max_features)\n",
        "tokenizer.fit_on_texts(df['mod_review'])\n",
        "sequences = tokenizer.texts_to_sequences(df['mod_review'])"
      ],
      "execution_count": 16,
      "outputs": []
    },
    {
      "cell_type": "code",
      "metadata": {
        "id": "e0N1joomTQJl",
        "outputId": "f4197bff-f091-4f77-b0bc-179a15430ce1",
        "colab": {
          "base_uri": "https://localhost:8080/",
          "height": 136
        }
      },
      "source": [
        "df['review'].loc[0]"
      ],
      "execution_count": 17,
      "outputs": [
        {
          "output_type": "execute_result",
          "data": {
            "application/vnd.google.colaboratory.intrinsic+json": {
              "type": "string"
            },
            "text/plain": [
              "\"One of the other reviewers has mentioned that after watching just 1 Oz episode you'll be hooked. They are right, as this is exactly what happened with me.<br /><br />The first thing that struck me about Oz was its brutality and unflinching scenes of violence, which set in right from the word GO. Trust me, this is not a show for the faint hearted or timid. This show pulls no punches with regards to drugs, sex or violence. Its is hardcore, in the classic use of the word.<br /><br />It is called OZ as that is the nickname given to the Oswald Maximum Security State Penitentary. It focuses mainly on Emerald City, an experimental section of the prison where all the cells have glass fronts and face inwards, so privacy is not high on the agenda. Em City is home to many..Aryans, Muslims, gangstas, Latinos, Christians, Italians, Irish and more....so scuffles, death stares, dodgy dealings and shady agreements are never far away.<br /><br />I would say the main appeal of the show is due to the fact that it goes where other shows wouldn't dare. Forget pretty pictures painted for mainstream audiences, forget charm, forget romance...OZ doesn't mess around. The first episode I ever saw struck me as so nasty it was surreal, I couldn't say I was ready for it, but as I watched more, I developed a taste for Oz, and got accustomed to the high levels of graphic violence. Not just violence, but injustice (crooked guards who'll be sold out for a nickel, inmates who'll kill on order and get away with it, well mannered, middle class inmates being turned into prison bitches due to their lack of street skills or prison experience) Watching Oz, you may become comfortable with what is uncomfortable viewing....thats if you can get in touch with your darker side.\""
            ]
          },
          "metadata": {
            "tags": []
          },
          "execution_count": 17
        }
      ]
    },
    {
      "cell_type": "code",
      "metadata": {
        "id": "eVdMVG0JTQJ3",
        "outputId": "b6c3c59c-8a9f-444f-e4be-ab741c528c69",
        "colab": {
          "base_uri": "https://localhost:8080/",
          "height": 136
        }
      },
      "source": [
        "df['mod_review'].loc[0]"
      ],
      "execution_count": 18,
      "outputs": [
        {
          "output_type": "execute_result",
          "data": {
            "application/vnd.google.colaboratory.intrinsic+json": {
              "type": "string"
            },
            "text/plain": [
              "'one reviewer ha mention watch 1 oz episode hook  right  exactly happen   first thing strike oz wa brutality unflinching scene violence  set right word go  trust  show faint hearted timid  show pull punch regard drug  sex violence  hardcore  classic use word   call oz nickname give oswald maximum security state penitentary  focus mainly emerald city  experimental section prison cell glass front face inwards  privacy high agenda  em city home many  aryan  muslim  gangsta  latino  christian  italian  irish    scuffle  death stare  dodgy deal shady agreement never far away   would say main appeal show due fact go show dare  forget pretty picture paint mainstream audience  forget charm  forget romance   oz mess around  first episode ever saw strike nasty wa surreal  say wa ready  watch  develop taste oz  get accustom high level graphic violence  violence  injustice  crook guard sell nickel  inmate kill order get away  well mannered  middle class inmate turn prison bitch due lack street skill prison experience  watch oz  may become comfortable uncomfortable view    thats get touch darker side '"
            ]
          },
          "metadata": {
            "tags": []
          },
          "execution_count": 18
        }
      ]
    },
    {
      "cell_type": "code",
      "metadata": {
        "id": "Hv6s6WHVTQKn",
        "outputId": "fc967b0a-5b00-4b8b-fa7c-c7adc6b33fbb",
        "colab": {
          "base_uri": "https://localhost:8080/"
        }
      },
      "source": [
        "sequences[0]"
      ],
      "execution_count": 19,
      "outputs": [
        {
          "output_type": "execute_result",
          "data": {
            "text/plain": [
              "[4,\n",
              " 1049,\n",
              " 9,\n",
              " 336,\n",
              " 13,\n",
              " 221,\n",
              " 2648,\n",
              " 182,\n",
              " 1528,\n",
              " 114,\n",
              " 522,\n",
              " 105,\n",
              " 32,\n",
              " 40,\n",
              " 985,\n",
              " 2648,\n",
              " 3,\n",
              " 4486,\n",
              " 22,\n",
              " 471,\n",
              " 90,\n",
              " 114,\n",
              " 273,\n",
              " 14,\n",
              " 1309,\n",
              " 20,\n",
              " 5069,\n",
              " 2010,\n",
              " 20,\n",
              " 552,\n",
              " 1596,\n",
              " 1029,\n",
              " 567,\n",
              " 289,\n",
              " 471,\n",
              " 3243,\n",
              " 239,\n",
              " 71,\n",
              " 273,\n",
              " 149,\n",
              " 2648,\n",
              " 35,\n",
              " 5661,\n",
              " 2181,\n",
              " 478,\n",
              " 531,\n",
              " 1257,\n",
              " 413,\n",
              " 3921,\n",
              " 1842,\n",
              " 1018,\n",
              " 1831,\n",
              " 1718,\n",
              " 814,\n",
              " 197,\n",
              " 213,\n",
              " 3713,\n",
              " 2495,\n",
              " 413,\n",
              " 259,\n",
              " 49,\n",
              " 3468,\n",
              " 5861,\n",
              " 1155,\n",
              " 853,\n",
              " 2113,\n",
              " 218,\n",
              " 3557,\n",
              " 5992,\n",
              " 359,\n",
              " 52,\n",
              " 141,\n",
              " 161,\n",
              " 18,\n",
              " 25,\n",
              " 196,\n",
              " 758,\n",
              " 20,\n",
              " 575,\n",
              " 101,\n",
              " 14,\n",
              " 20,\n",
              " 1440,\n",
              " 383,\n",
              " 104,\n",
              " 257,\n",
              " 982,\n",
              " 2153,\n",
              " 173,\n",
              " 383,\n",
              " 588,\n",
              " 383,\n",
              " 697,\n",
              " 2648,\n",
              " 670,\n",
              " 107,\n",
              " 32,\n",
              " 182,\n",
              " 56,\n",
              " 129,\n",
              " 985,\n",
              " 1418,\n",
              " 3,\n",
              " 1932,\n",
              " 25,\n",
              " 3,\n",
              " 1381,\n",
              " 13,\n",
              " 619,\n",
              " 941,\n",
              " 2648,\n",
              " 8,\n",
              " 213,\n",
              " 431,\n",
              " 1241,\n",
              " 471,\n",
              " 471,\n",
              " 5325,\n",
              " 2907,\n",
              " 1648,\n",
              " 863,\n",
              " 4467,\n",
              " 100,\n",
              " 444,\n",
              " 8,\n",
              " 161,\n",
              " 21,\n",
              " 539,\n",
              " 530,\n",
              " 4467,\n",
              " 95,\n",
              " 1018,\n",
              " 3958,\n",
              " 575,\n",
              " 280,\n",
              " 566,\n",
              " 1174,\n",
              " 1018,\n",
              " 324,\n",
              " 13,\n",
              " 2648,\n",
              " 118,\n",
              " 96,\n",
              " 3254,\n",
              " 2849,\n",
              " 211,\n",
              " 1398,\n",
              " 8,\n",
              " 422,\n",
              " 3460,\n",
              " 340]"
            ]
          },
          "metadata": {
            "tags": []
          },
          "execution_count": 19
        }
      ]
    },
    {
      "cell_type": "code",
      "metadata": {
        "id": "pw1knG2oTQLM"
      },
      "source": [
        "mean_len = 160\n",
        "X_train = pad_sequences(sequences, maxlen=mean_len)\n",
        "y = df['sentiment']"
      ],
      "execution_count": 20,
      "outputs": []
    },
    {
      "cell_type": "code",
      "metadata": {
        "id": "87GDYP1fTQLl"
      },
      "source": [
        "train_reviews=X_train[:40000]\n",
        "train_sentiments=y[:40000]\n",
        "#test dataset\n",
        "test_reviews=X_train[40000:]\n",
        "test_sentiments=y[40000:]"
      ],
      "execution_count": 21,
      "outputs": []
    },
    {
      "cell_type": "code",
      "metadata": {
        "id": "47TxVRsNTQL1"
      },
      "source": [
        "import tensorflow as tf\n",
        "from tensorflow.keras.layers import Dense, Input\n",
        "\n",
        "\n",
        "def LSTM_architecture():\n",
        "\n",
        "  word_input=Input(shape=(mean_len,),dtype='float64')  \n",
        "  # creating the embedding\n",
        "  word_embedding=Embedding(input_dim=6000,output_dim=64,input_length=mean_len)(word_input)\n",
        "  layer2 = LSTM(64,dropout=0.2,recurrent_dropout=0.2)(word_embedding)\n",
        "  layer3 = Dense(1,activation='sigmoid')(layer2)\n",
        "  last_step = tf.keras.Model([word_input], outputs= layer3)\n",
        "  return last_step"
      ],
      "execution_count": 22,
      "outputs": []
    },
    {
      "cell_type": "code",
      "metadata": {
        "id": "EbGZuIFKTQMU",
        "outputId": "ff07f8c2-8332-45b9-d16e-d03e0343c899",
        "colab": {
          "base_uri": "https://localhost:8080/"
        }
      },
      "source": [
        "model = LSTM_architecture()\n",
        "model.summary()"
      ],
      "execution_count": 23,
      "outputs": [
        {
          "output_type": "stream",
          "text": [
            "WARNING:tensorflow:Layer lstm will not use cuDNN kernel since it doesn't meet the cuDNN kernel criteria. It will use generic GPU kernel as fallback when running on GPU\n",
            "Model: \"functional_1\"\n",
            "_________________________________________________________________\n",
            "Layer (type)                 Output Shape              Param #   \n",
            "=================================================================\n",
            "input_1 (InputLayer)         [(None, 160)]             0         \n",
            "_________________________________________________________________\n",
            "embedding (Embedding)        (None, 160, 64)           384000    \n",
            "_________________________________________________________________\n",
            "lstm (LSTM)                  (None, 64)                33024     \n",
            "_________________________________________________________________\n",
            "dense (Dense)                (None, 1)                 65        \n",
            "=================================================================\n",
            "Total params: 417,089\n",
            "Trainable params: 417,089\n",
            "Non-trainable params: 0\n",
            "_________________________________________________________________\n"
          ],
          "name": "stdout"
        }
      ]
    },
    {
      "cell_type": "code",
      "metadata": {
        "id": "p-Gq-7QjTQMn"
      },
      "source": [
        "model.compile(loss='binary_crossentropy',optimizer='adam',metrics=[\"accuracy\"])"
      ],
      "execution_count": 24,
      "outputs": []
    },
    {
      "cell_type": "code",
      "metadata": {
        "id": "9N7fpBxCTQNh",
        "outputId": "819fd1f5-a338-42a7-940d-80ef904a5668",
        "colab": {
          "base_uri": "https://localhost:8080/"
        }
      },
      "source": [
        "model.fit(train_reviews,train_sentiments,batch_size=32,epochs=5,verbose=2,validation_data=(test_reviews,test_sentiments))"
      ],
      "execution_count": 25,
      "outputs": [
        {
          "output_type": "stream",
          "text": [
            "Epoch 1/5\n",
            "1250/1250 - 315s - loss: 0.3402 - accuracy: 0.8543 - val_loss: 0.2767 - val_accuracy: 0.8867\n",
            "Epoch 2/5\n",
            "1250/1250 - 314s - loss: 0.2344 - accuracy: 0.9087 - val_loss: 0.2754 - val_accuracy: 0.8869\n",
            "Epoch 3/5\n",
            "1250/1250 - 317s - loss: 0.1946 - accuracy: 0.9237 - val_loss: 0.2922 - val_accuracy: 0.8812\n",
            "Epoch 4/5\n",
            "1250/1250 - 310s - loss: 0.1646 - accuracy: 0.9378 - val_loss: 0.3049 - val_accuracy: 0.8829\n",
            "Epoch 5/5\n",
            "1250/1250 - 313s - loss: 0.1424 - accuracy: 0.9469 - val_loss: 0.3544 - val_accuracy: 0.8801\n"
          ],
          "name": "stdout"
        },
        {
          "output_type": "execute_result",
          "data": {
            "text/plain": [
              "<tensorflow.python.keras.callbacks.History at 0x7f97d035d668>"
            ]
          },
          "metadata": {
            "tags": []
          },
          "execution_count": 25
        }
      ]
    },
    {
      "cell_type": "markdown",
      "metadata": {
        "id": "HTlcKrGhlWzx"
      },
      "source": [
        "##Testing on Rotten Tomatoes Dataset for sentiment analysis."
      ]
    },
    {
      "cell_type": "code",
      "metadata": {
        "id": "UIEGdM3nlTDT"
      },
      "source": [
        "new_data=r'/content/drive/My Drive/AML_Assignment_2/rotten_tomatoes_reviews.csv'\n",
        "new=pd.read_csv(new_data)"
      ],
      "execution_count": 26,
      "outputs": []
    },
    {
      "cell_type": "code",
      "metadata": {
        "id": "b6yiHoE4lavh",
        "outputId": "d92f17dd-c232-41fb-ad8a-236073ed77b7",
        "colab": {
          "base_uri": "https://localhost:8080/"
        }
      },
      "source": [
        "X_new = new[\"Review\"][:22500]\n",
        "#X_new = X_new.map(clean_text)\n",
        "X_new.head()"
      ],
      "execution_count": 27,
      "outputs": [
        {
          "output_type": "execute_result",
          "data": {
            "text/plain": [
              "0     Manakamana doesn't answer any questions, yet ...\n",
              "1     Wilfully offensive and powered by a chest-thu...\n",
              "2     It would be difficult to imagine material mor...\n",
              "3     Despite the gusto its star brings to the role...\n",
              "4     If there was a good idea at the core of this ...\n",
              "Name: Review, dtype: object"
            ]
          },
          "metadata": {
            "tags": []
          },
          "execution_count": 27
        }
      ]
    },
    {
      "cell_type": "code",
      "metadata": {
        "id": "c_-Yo5whleJA",
        "outputId": "08da0a5e-e339-46f6-f843-6842965c96ea",
        "colab": {
          "base_uri": "https://localhost:8080/"
        }
      },
      "source": [
        "X_new_seq = pd.Series(tokenizer.texts_to_sequences(X_new))\n",
        "X_new_seq.head()"
      ],
      "execution_count": 28,
      "outputs": [
        {
          "output_type": "execute_result",
          "data": {
            "text/plain": [
              "0             [836, 162, 89, 6, 284, 1080, 141, 3930]\n",
              "1                         [2125, 3306, 11, 1368, 165]\n",
              "2                      [18, 768, 583, 677, 279, 4212]\n",
              "3           [384, 77, 82, 172, 857, 5460, 4144, 2642]\n",
              "4    [11, 174, 1580, 2, 1921, 510, 28, 543, 1259, 46]\n",
              "dtype: object"
            ]
          },
          "metadata": {
            "tags": []
          },
          "execution_count": 28
        }
      ]
    },
    {
      "cell_type": "code",
      "metadata": {
        "id": "G4RJjMnVle_u",
        "outputId": "4ac8a4de-c3f8-4449-8286-acda827c0c41",
        "colab": {
          "base_uri": "https://localhost:8080/"
        }
      },
      "source": [
        "X_new_pad = pad_sequences(X_new_seq, maxlen=160)\n",
        "X_new_pad"
      ],
      "execution_count": 32,
      "outputs": [
        {
          "output_type": "execute_result",
          "data": {
            "text/plain": [
              "array([[   0,    0,    0, ..., 1080,  141, 3930],\n",
              "       [   0,    0,    0, ...,   11, 1368,  165],\n",
              "       [   0,    0,    0, ...,  677,  279, 4212],\n",
              "       ...,\n",
              "       [   0,    0,    0, ...,    7,    4,  964],\n",
              "       [   0,    0,    0, ...,  316,   42,  127],\n",
              "       [   0,    0,    0, ...,   53, 2573, 2152]], dtype=int32)"
            ]
          },
          "metadata": {
            "tags": []
          },
          "execution_count": 32
        }
      ]
    },
    {
      "cell_type": "code",
      "metadata": {
        "id": "iq0kJ0WpljZD"
      },
      "source": [
        "y_pred=model.predict(X_new_pad)"
      ],
      "execution_count": 33,
      "outputs": []
    },
    {
      "cell_type": "code",
      "metadata": {
        "id": "yJ7XO4NvlmFb"
      },
      "source": [
        "y_act=new['Freshness'][:22500]"
      ],
      "execution_count": 34,
      "outputs": []
    },
    {
      "cell_type": "code",
      "metadata": {
        "id": "dILBVX6Iloln",
        "outputId": "32baf805-2406-4c9b-a80e-dab82beebbc1",
        "colab": {
          "base_uri": "https://localhost:8080/"
        }
      },
      "source": [
        "# Importing the dependancies\n",
        "from sklearn import metrics\n",
        "\n",
        "print(metrics.confusion_matrix(y_act, y_pred.round()))\n",
        "# Printing the precision and recall, among other metrics\n",
        "print(metrics.classification_report(y_act, y_pred.round()))"
      ],
      "execution_count": 35,
      "outputs": [
        {
          "output_type": "stream",
          "text": [
            "[[6512 4760]\n",
            " [3378 7850]]\n",
            "              precision    recall  f1-score   support\n",
            "\n",
            "           0       0.66      0.58      0.62     11272\n",
            "           1       0.62      0.70      0.66     11228\n",
            "\n",
            "    accuracy                           0.64     22500\n",
            "   macro avg       0.64      0.64      0.64     22500\n",
            "weighted avg       0.64      0.64      0.64     22500\n",
            "\n"
          ],
          "name": "stdout"
        }
      ]
    },
    {
      "cell_type": "code",
      "metadata": {
        "id": "tDZb3OpnlsIv",
        "outputId": "57f31f3e-b5d8-4691-d3e9-f8dd1c2580d1",
        "colab": {
          "base_uri": "https://localhost:8080/",
          "height": 312
        }
      },
      "source": [
        "from sklearn.metrics import roc_auc_score, roc_curve\n",
        "import matplotlib.pyplot as plt\n",
        "fpr, tpr, thresholds = roc_curve(y_act, y_pred)\n",
        "plt.plot(fpr, tpr)\n",
        "plt.title('ROC curve')\n",
        "plt.xlabel('False Positive Rate')\n",
        "plt.ylabel('True Positive Rate')\n",
        "print('Area under the Receiver Operating Characteristic curve:', \n",
        "      roc_auc_score(y_act, y_pred))"
      ],
      "execution_count": 36,
      "outputs": [
        {
          "output_type": "stream",
          "text": [
            "Area under the Receiver Operating Characteristic curve: 0.696624763783788\n"
          ],
          "name": "stdout"
        },
        {
          "output_type": "display_data",
          "data": {
            "image/png": "[encoded data removed]",
            "text/plain": [
              "<Figure size 432x288 with 1 Axes>"
            ]
          },
          "metadata": {
            "tags": [],
            "needs_background": "light"
          }
        }
      ]
    },
    {
      "cell_type": "code",
      "metadata": {
        "id": "7IQ5D5gklyPJ",
        "outputId": "816bb8c0-9899-4af9-ceb7-eb127be269f0",
        "colab": {
          "base_uri": "https://localhost:8080/"
        }
      },
      "source": [
        "loss, accuracy = model.evaluate(X_new_pad, y_act, verbose=1)\n",
        "print(\"Test: accuracy = %f  ;  loss = %f\" % (accuracy, loss))"
      ],
      "execution_count": 37,
      "outputs": [
        {
          "output_type": "stream",
          "text": [
            "704/704 [==============================] - 30s 43ms/step - loss: 0.7527 - accuracy: 0.6383\n",
            "Test: accuracy = 0.638311  ;  loss = 0.752654\n"
          ],
          "name": "stdout"
        }
      ]
    }
  ]
}