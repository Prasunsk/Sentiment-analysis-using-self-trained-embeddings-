{
  "nbformat": 4,
  "nbformat_minor": 0,
  "metadata": {
    "colab": {
      "name": "Sentiments using GLoVE.ipynb",
      "provenance": [],
      "collapsed_sections": []
    },
    "kernelspec": {
      "name": "python3",
      "display_name": "Python 3"
    },
    "accelerator": "GPU"
  },
  "cells": [
    {
      "cell_type": "code",
      "metadata": {
        "id": "vs-KGsjfTs6u",
        "outputId": "13c0a276-f0da-4835-ace6-98c3aa436d29",
        "colab": {
          "base_uri": "https://localhost:8080/"
        }
      },
      "source": [
        "import numpy as np # linear algebra\n",
        "import pandas as pd # data processing, CSV file I/O (e.g. pd.read_csv)\n",
        "import re\n",
        "import nltk\n",
        "from nltk.corpus import stopwords\n",
        "nltk.download('wordnet')\n",
        "nltk.download('stopwords')\n",
        "from keras.preprocessing.text import Tokenizer\n",
        "from matplotlib import pyplot "
      ],
      "execution_count": 2,
      "outputs": [
        {
          "output_type": "stream",
          "text": [
            "[nltk_data] Downloading package wordnet to /root/nltk_data...\n",
            "[nltk_data]   Unzipping corpora/wordnet.zip.\n",
            "[nltk_data] Downloading package stopwords to /root/nltk_data...\n",
            "[nltk_data]   Unzipping corpora/stopwords.zip.\n"
          ],
          "name": "stdout"
        }
      ]
    },
    {
      "cell_type": "code",
      "metadata": {
        "id": "ZI2N6_ofUtWt",
        "outputId": "90a78172-2ed8-4481-c010-1dd576b68980",
        "colab": {
          "base_uri": "https://localhost:8080/",
          "height": 196
        }
      },
      "source": [
        "data_path = '/content/drive/My Drive/AML_Assignment_2/IMDB Dataset.csv'\n",
        "train=pd.read_csv(data_path)\n",
        "train.head()"
      ],
      "execution_count": 3,
      "outputs": [
        {
          "output_type": "execute_result",
          "data": {
            "text/html": [
              "<div>\n",
              "<style scoped>\n",
              "    .dataframe tbody tr th:only-of-type {\n",
              "        vertical-align: middle;\n",
              "    }\n",
              "\n",
              "    .dataframe tbody tr th {\n",
              "        vertical-align: top;\n",
              "    }\n",
              "\n",
              "    .dataframe thead th {\n",
              "        text-align: right;\n",
              "    }\n",
              "</style>\n",
              "<table border=\"1\" class=\"dataframe\">\n",
              "  <thead>\n",
              "    <tr style=\"text-align: right;\">\n",
              "      <th></th>\n",
              "      <th>review</th>\n",
              "      <th>sentiment</th>\n",
              "    </tr>\n",
              "  </thead>\n",
              "  <tbody>\n",
              "    <tr>\n",
              "      <th>0</th>\n",
              "      <td>One of the other reviewers has mentioned that ...</td>\n",
              "      <td>positive</td>\n",
              "    </tr>\n",
              "    <tr>\n",
              "      <th>1</th>\n",
              "      <td>A wonderful little production. &lt;br /&gt;&lt;br /&gt;The...</td>\n",
              "      <td>positive</td>\n",
              "    </tr>\n",
              "    <tr>\n",
              "      <th>2</th>\n",
              "      <td>I thought this was a wonderful way to spend ti...</td>\n",
              "      <td>positive</td>\n",
              "    </tr>\n",
              "    <tr>\n",
              "      <th>3</th>\n",
              "      <td>Basically there's a family where a little boy ...</td>\n",
              "      <td>negative</td>\n",
              "    </tr>\n",
              "    <tr>\n",
              "      <th>4</th>\n",
              "      <td>Petter Mattei's \"Love in the Time of Money\" is...</td>\n",
              "      <td>positive</td>\n",
              "    </tr>\n",
              "  </tbody>\n",
              "</table>\n",
              "</div>"
            ],
            "text/plain": [
              "                                              review sentiment\n",
              "0  One of the other reviewers has mentioned that ...  positive\n",
              "1  A wonderful little production. <br /><br />The...  positive\n",
              "2  I thought this was a wonderful way to spend ti...  positive\n",
              "3  Basically there's a family where a little boy ...  negative\n",
              "4  Petter Mattei's \"Love in the Time of Money\" is...  positive"
            ]
          },
          "metadata": {
            "tags": []
          },
          "execution_count": 3
        }
      ]
    },
    {
      "cell_type": "code",
      "metadata": {
        "id": "v7H4HqtRVM6Y"
      },
      "source": [
        "y_train = train[\"sentiment\"].map({\"negative\": 0, \"positive\": 1})\n",
        "X = train[\"review\"]"
      ],
      "execution_count": 4,
      "outputs": []
    },
    {
      "cell_type": "code",
      "metadata": {
        "id": "gZewXOYhVS_I",
        "outputId": "bb69cf1f-65f0-4595-dc7b-1996b3efe3a5",
        "colab": {
          "base_uri": "https://localhost:8080/"
        }
      },
      "source": [
        "X.head()"
      ],
      "execution_count": 5,
      "outputs": [
        {
          "output_type": "execute_result",
          "data": {
            "text/plain": [
              "0    One of the other reviewers has mentioned that ...\n",
              "1    A wonderful little production. <br /><br />The...\n",
              "2    I thought this was a wonderful way to spend ti...\n",
              "3    Basically there's a family where a little boy ...\n",
              "4    Petter Mattei's \"Love in the Time of Money\" is...\n",
              "Name: review, dtype: object"
            ]
          },
          "metadata": {
            "tags": []
          },
          "execution_count": 5
        }
      ]
    },
    {
      "cell_type": "code",
      "metadata": {
        "id": "ZXsAUBcOVN7O",
        "outputId": "f5e0986b-0af9-4b72-8bbc-05c19989f15c",
        "colab": {
          "base_uri": "https://localhost:8080/"
        }
      },
      "source": [
        "stopwords_eng = set(stopwords.words(\"english\"))\n",
        "#Removing the html strips\n",
        "def strip_html(text):\n",
        "    p = re.compile(r'<.*?>')\n",
        "    return p.sub('', text)\n",
        "\n",
        "\n",
        "def clean_text(text):\n",
        "    text = text.lower() # convert to lowercase\n",
        "    text = strip_html(text)\n",
        "    text = re.sub('\\[[^]]*\\]', '', text)\n",
        "    text = re.sub(\"[^a-z]\", \" \", text)\n",
        "    words = [word for word in text.split() if word not in stopwords_eng]\n",
        "    text = \" \".join(words)\n",
        "    return text\n",
        "\n",
        "X_train = X.map(clean_text)\n",
        "X_train.head()"
      ],
      "execution_count": 6,
      "outputs": [
        {
          "output_type": "execute_result",
          "data": {
            "text/plain": [
              "0    one reviewers mentioned watching oz episode ho...\n",
              "1    wonderful little production filming technique ...\n",
              "2    thought wonderful way spend time hot summer we...\n",
              "3    basically family little boy jake thinks zombie...\n",
              "4    petter mattei love time money visually stunnin...\n",
              "Name: review, dtype: object"
            ]
          },
          "metadata": {
            "tags": []
          },
          "execution_count": 6
        }
      ]
    },
    {
      "cell_type": "code",
      "metadata": {
        "id": "dK-KLKqLVazk",
        "outputId": "58902b88-82a0-4308-a641-e434b1ade307",
        "colab": {
          "base_uri": "https://localhost:8080/"
        }
      },
      "source": [
        "num_words = 10000\n",
        "tokenizer = Tokenizer(num_words=num_words)\n",
        "\n",
        "tokenizer.fit_on_texts(X_train)\n",
        "\n",
        "X_train_seq = pd.Series(tokenizer.texts_to_sequences(X_train))\n",
        "X_train_seq.head()\n"
      ],
      "execution_count": 40,
      "outputs": [
        {
          "output_type": "execute_result",
          "data": {
            "text/plain": [
              "0    [3, 1897, 916, 55, 2915, 275, 3029, 98, 486, 4...\n",
              "1    [271, 41, 234, 1228, 2807, 61, 6, 1999, 1430, ...\n",
              "2    [89, 271, 22, 1003, 6, 725, 1317, 2429, 1088, ...\n",
              "3    [550, 119, 41, 278, 3174, 1101, 850, 4036, 628...\n",
              "4    [33, 6, 176, 1974, 1273, 2, 27, 314, 1414, 76,...\n",
              "dtype: object"
            ]
          },
          "metadata": {
            "tags": []
          },
          "execution_count": 40
        }
      ]
    },
    {
      "cell_type": "code",
      "metadata": {
        "id": "xqafYCWxX44m",
        "outputId": "b262fab9-2775-4f4e-880e-f5348f37d8fe",
        "colab": {
          "base_uri": "https://localhost:8080/"
        }
      },
      "source": [
        "from keras.preprocessing.sequence import pad_sequences\n",
        "X_train_pad = pad_sequences(X_train_seq, maxlen=2000)\n",
        "X_train_pad"
      ],
      "execution_count": 41,
      "outputs": [
        {
          "output_type": "execute_result",
          "data": {
            "text/plain": [
              "array([[   0,    0,    0, ..., 1065, 3915,  356],\n",
              "       [   0,    0,    0, ..., 1811,   12,  113],\n",
              "       [   0,    0,    0, ...,   51,   11,  232],\n",
              "       ...,\n",
              "       [   0,    0,    0, ...,  365, 3801, 5760],\n",
              "       [   0,    0,    0, ..., 1919, 3999,  595],\n",
              "       [   0,    0,    0, ..., 4263,  652,    1]], dtype=int32)"
            ]
          },
          "metadata": {
            "tags": []
          },
          "execution_count": 41
        }
      ]
    },
    {
      "cell_type": "code",
      "metadata": {
        "id": "fOe0yOCJYtT6"
      },
      "source": [
        "embed_path=r'content/drive/My Drive/Clean/glove.6B.50d'"
      ],
      "execution_count": 42,
      "outputs": []
    },
    {
      "cell_type": "code",
      "metadata": {
        "id": "h4DRIgWsifGM",
        "outputId": "8bf718fa-985c-4d00-9202-8e9f74342e75",
        "colab": {
          "base_uri": "https://localhost:8080/"
        }
      },
      "source": [
        "%cd drive/My Drive/Clean/"
      ],
      "execution_count": 43,
      "outputs": [
        {
          "output_type": "stream",
          "text": [
            "[Errno 2] No such file or directory: 'drive/My Drive/Clean/'\n",
            "/content/drive/My Drive/Clean\n"
          ],
          "name": "stdout"
        }
      ]
    },
    {
      "cell_type": "code",
      "metadata": {
        "id": "AbTrPlm6Wh26"
      },
      "source": [
        "embedding_index = {}\n",
        "with open('glove.6B.50d.txt') as file: # Preparing glove\n",
        "    for line in file:\n",
        "        values = line.split()\n",
        "        key = values[0]\n",
        "        value = values[1:]\n",
        "        embedding_index[key] = np.array(value, dtype='float32')\n",
        "        \n",
        "        \n",
        "embedding_matrix = np.zeros((10000, 50)) # 10000 - num_words, 100 - length of sequence\n",
        "for word, i in tokenizer.word_index.items():\n",
        "    if i < 10000:\n",
        "        embedding_vector = embedding_index.get(word)\n",
        "        if embedding_vector is not None:\n",
        "            embedding_matrix[i] = embedding_vector"
      ],
      "execution_count": 44,
      "outputs": []
    },
    {
      "cell_type": "code",
      "metadata": {
        "id": "-c0pC0RmcaGE"
      },
      "source": [
        "import tensorflow as tf\n",
        "from keras.layers import Dense , Input , LSTM , Embedding, Dropout , Activation, GRU, Flatten\n",
        "from keras.models import Model, Sequential\n",
        "from keras import initializers, regularizers, constraints, optimizers, layers"
      ],
      "execution_count": 45,
      "outputs": []
    },
    {
      "cell_type": "code",
      "metadata": {
        "id": "JrplyaW2c1fN"
      },
      "source": [
        "model = tf.keras.models.Sequential([\n",
        "    Embedding(10000, 50, input_length=2000),\n",
        "    LSTM(64,dropout=0.2,),\n",
        "    # Dense(32, activation=tf.nn.relu),\n",
        "    Dense(1, activation=tf.nn.sigmoid),\n",
        "])\n",
        "model.layers[0].set_weights([embedding_matrix]) # Add glove to our model\n",
        "model.layers[0].trainable = False # Freeze embedding layer"
      ],
      "execution_count": 47,
      "outputs": []
    },
    {
      "cell_type": "code",
      "metadata": {
        "id": "D5Re71CgaBMN",
        "outputId": "5a140c15-1074-4ebb-a184-278b01021b97",
        "colab": {
          "base_uri": "https://localhost:8080/"
        }
      },
      "source": [
        "model.summary()"
      ],
      "execution_count": 65,
      "outputs": [
        {
          "output_type": "stream",
          "text": [
            "Model: \"sequential_2\"\n",
            "_________________________________________________________________\n",
            "Layer (type)                 Output Shape              Param #   \n",
            "=================================================================\n",
            "embedding_2 (Embedding)      (None, 2000, 50)          500000    \n",
            "_________________________________________________________________\n",
            "lstm_2 (LSTM)                (None, 64)                29440     \n",
            "_________________________________________________________________\n",
            "dense_2 (Dense)              (None, 1)                 65        \n",
            "=================================================================\n",
            "Total params: 529,505\n",
            "Trainable params: 29,505\n",
            "Non-trainable params: 500,000\n",
            "_________________________________________________________________\n"
          ],
          "name": "stdout"
        }
      ]
    },
    {
      "cell_type": "code",
      "metadata": {
        "id": "LCXHE151dNUy"
      },
      "source": [
        "model.compile(loss='binary_crossentropy',optimizer='adam',metrics=[\"accuracy\"])"
      ],
      "execution_count": 48,
      "outputs": []
    },
    {
      "cell_type": "code",
      "metadata": {
        "id": "aL1VyC1MdcS8"
      },
      "source": [
        "train_reviews=X_train_pad[:40000]\n",
        "train_sentiments=y_train[:40000]\n",
        "#test dataset\n",
        "test_reviews=X_train_pad[40000:]\n",
        "test_sentiments=y_train[40000:]"
      ],
      "execution_count": 49,
      "outputs": []
    },
    {
      "cell_type": "code",
      "metadata": {
        "id": "A9_lykZOd07Y",
        "outputId": "641fd0b5-6820-4f33-f74d-173675518f94",
        "colab": {
          "base_uri": "https://localhost:8080/"
        }
      },
      "source": [
        "history=model.fit(train_reviews,train_sentiments,batch_size=32,epochs=5,verbose=2,validation_data=(test_reviews,test_sentiments))"
      ],
      "execution_count": 50,
      "outputs": [
        {
          "output_type": "stream",
          "text": [
            "Epoch 1/5\n",
            "1250/1250 - 81s - loss: 0.4993 - accuracy: 0.7567 - val_loss: 0.4643 - val_accuracy: 0.7874\n",
            "Epoch 2/5\n",
            "1250/1250 - 81s - loss: 0.4157 - accuracy: 0.8108 - val_loss: 0.3733 - val_accuracy: 0.8359\n",
            "Epoch 3/5\n",
            "1250/1250 - 81s - loss: 0.3830 - accuracy: 0.8285 - val_loss: 0.3399 - val_accuracy: 0.8512\n",
            "Epoch 4/5\n",
            "1250/1250 - 81s - loss: 0.3579 - accuracy: 0.8428 - val_loss: 0.3263 - val_accuracy: 0.8607\n",
            "Epoch 5/5\n",
            "1250/1250 - 82s - loss: 0.3409 - accuracy: 0.8505 - val_loss: 0.3190 - val_accuracy: 0.8657\n"
          ],
          "name": "stdout"
        }
      ]
    },
    {
      "cell_type": "code",
      "metadata": {
        "id": "9TFn_6v8eGrf",
        "outputId": "ee6bac62-d428-43d2-dbc0-36351617f231",
        "colab": {
          "base_uri": "https://localhost:8080/",
          "height": 265
        }
      },
      "source": [
        "import matplotlib.pyplot as plt\n",
        "plt.plot(history.history['accuracy'], 'r-', label='Train accuracy')\n",
        "plt.plot(history.history['val_accuracy'], 'b-', label='Validation accuracy')\n",
        "plt.legend()\n",
        "plt.grid()\n",
        "plt.savefig(\"glove.jpg\")\n",
        "plt.show()"
      ],
      "execution_count": 67,
      "outputs": [
        {
          "output_type": "display_data",
          "data": {
            "image/png": "[encoded data removed]",
            "text/plain": [
              "<Figure size 432x288 with 1 Axes>"
            ]
          },
          "metadata": {
            "tags": [],
            "needs_background": "light"
          }
        }
      ]
    },
    {
      "cell_type": "markdown",
      "metadata": {
        "id": "s23X-LULiXs6"
      },
      "source": [
        "##Testing on the Rotten Tomatoes Dataset"
      ]
    },
    {
      "cell_type": "code",
      "metadata": {
        "id": "z8OWiN_e2z9O"
      },
      "source": [
        "new_data=r'/content/drive/My Drive/AML_Assignment_2/rotten_tomatoes_reviews.csv'\n",
        "new=pd.read_csv(new_data)"
      ],
      "execution_count": 52,
      "outputs": []
    },
    {
      "cell_type": "code",
      "metadata": {
        "id": "FQwneFv13Fgk",
        "outputId": "e0bfae67-d08a-4b13-f6e8-23b17bce6d11",
        "colab": {
          "base_uri": "https://localhost:8080/"
        }
      },
      "source": [
        "X_new = new[\"Review\"][:22500]\n",
        "X_new = X_new.map(clean_text)\n",
        "X_new.head()"
      ],
      "execution_count": 53,
      "outputs": [
        {
          "output_type": "execute_result",
          "data": {
            "text/plain": [
              "0    manakamana answer questions yet makes point ne...\n",
              "1    wilfully offensive powered chest thumping mach...\n",
              "2    would difficult imagine material wrong spade l...\n",
              "3    despite gusto star brings role hard ride shotg...\n",
              "4    good idea core film buried unsightly pile flat...\n",
              "Name: Review, dtype: object"
            ]
          },
          "metadata": {
            "tags": []
          },
          "execution_count": 53
        }
      ]
    },
    {
      "cell_type": "code",
      "metadata": {
        "id": "PSKbZ0mA3KtA",
        "outputId": "e5777d0a-1150-4eb1-9892-cf104cb436c5",
        "colab": {
          "base_uri": "https://localhost:8080/"
        }
      },
      "source": [
        "X_new_seq = pd.Series(tokenizer.texts_to_sequences(X_new))\n",
        "X_new_seq.head()"
      ],
      "execution_count": 54,
      "outputs": [
        {
          "output_type": "execute_result",
          "data": {
            "text/plain": [
              "0    [1332, 1025, 133, 66, 111, 4, 249, 1135, 9742,...\n",
              "1                     [2303, 9683, 3934, 5, 1933, 134]\n",
              "2              [8, 732, 673, 681, 236, 6126, 302, 143]\n",
              "3    [339, 8996, 205, 831, 108, 140, 1147, 7094, 99...\n",
              "4    [5, 203, 1654, 2, 3456, 2438, 479, 642, 2299, ...\n",
              "dtype: object"
            ]
          },
          "metadata": {
            "tags": []
          },
          "execution_count": 54
        }
      ]
    },
    {
      "cell_type": "code",
      "metadata": {
        "id": "BzcEuH5Y3OIM",
        "outputId": "e2c22e5f-df15-486e-e78a-57ae1e4a6c2f",
        "colab": {
          "base_uri": "https://localhost:8080/"
        }
      },
      "source": [
        "X_new_pad = pad_sequences(X_new_seq, maxlen=2000)\n",
        "X_new_pad"
      ],
      "execution_count": 55,
      "outputs": [
        {
          "output_type": "execute_result",
          "data": {
            "text/plain": [
              "array([[   0,    0,    0, ..., 9742,  116, 4650],\n",
              "       [   0,    0,    0, ...,    5, 1933,  134],\n",
              "       [   0,    0,    0, ..., 6126,  302,  143],\n",
              "       ...,\n",
              "       [   0,    0,    0, ...,   11,    3, 1732],\n",
              "       [   0,    0,    0, ...,  101, 1953, 2871],\n",
              "       [   0,    0,    0, ..., 2919,  337, 2461]], dtype=int32)"
            ]
          },
          "metadata": {
            "tags": []
          },
          "execution_count": 55
        }
      ]
    },
    {
      "cell_type": "code",
      "metadata": {
        "id": "AxLygb9d3R7i"
      },
      "source": [
        "y_pred=model.predict(X_new_pad)"
      ],
      "execution_count": 56,
      "outputs": []
    },
    {
      "cell_type": "code",
      "metadata": {
        "id": "df3TmVhq3bxs"
      },
      "source": [
        "y_act=new['Freshness'][:22500]"
      ],
      "execution_count": 74,
      "outputs": []
    },
    {
      "cell_type": "code",
      "metadata": {
        "id": "B71pDd7-3cLH",
        "outputId": "1f08e2f8-32a7-44c9-912e-98801065273f",
        "colab": {
          "base_uri": "https://localhost:8080/",
          "height": 901
        }
      },
      "source": [
        "from sklearn.metrics import roc_auc_score, roc_curve\n",
        "import matplotlib.pyplot as plt\n",
        "fpr, tpr, thresholds = roc_curve(y_act, y_pred)\n",
        "plt.plot(fpr, tpr)\n",
        "plt.title('ROC curve')\n",
        "plt.xlabel('False Positive Rate')\n",
        "plt.ylabel('True Positive Rate')\n",
        "print('Area under the Receiver Operating Characteristic curve:', \n",
        "      roc_auc_score(y_act, y_pred))"
      ],
      "execution_count": 58,
      "outputs": [
        {
          "output_type": "stream",
          "text": [
            "Area under the Receiver Operating Characteristic curve: 0.7346678129716264\n"
          ],
          "name": "stdout"
        },
        {
          "output_type": "display_data",
          "data": {
            "image/png": "[encoded data removed]",
            "text/plain": [
              "<Figure size 432x288 with 1 Axes>"
            ]
          },
          "metadata": {
            "tags": [],
            "needs_background": "light"
          }
        },
        {
          "output_type": "stream",
          "text": [
            "Area under the Receiver Operating Characteristic curve: 0.7346678129716264\n"
          ],
          "name": "stdout"
        },
        {
          "output_type": "display_data",
          "data": {
            "image/png": "[encoded data removed]",
            "text/plain": [
              "<Figure size 432x288 with 1 Axes>"
            ]
          },
          "metadata": {
            "tags": [],
            "needs_background": "light"
          }
        },
        {
          "output_type": "stream",
          "text": [
            "Area under the Receiver Operating Characteristic curve: 0.7346678129716264\n"
          ],
          "name": "stdout"
        },
        {
          "output_type": "display_data",
          "data": {
            "image/png": "[encoded data removed]",
            "text/plain": [
              "<Figure size 432x288 with 1 Axes>"
            ]
          },
          "metadata": {
            "tags": [],
            "needs_background": "light"
          }
        }
      ]
    },
    {
      "cell_type": "code",
      "metadata": {
        "id": "8QcJYxVUKKOt",
        "outputId": "25e8492b-3970-4460-b4f4-c5e42b28235f",
        "colab": {
          "base_uri": "https://localhost:8080/"
        }
      },
      "source": [
        "# Importing the dependancies\n",
        "from sklearn import metrics\n",
        "\n",
        "print(metrics.confusion_matrix(y_act, y_pred.round()))\n",
        "# Printing the precision and recall, among other metrics\n",
        "print(metrics.classification_report(y_act, y_pred.round()))"
      ],
      "execution_count": 60,
      "outputs": [
        {
          "output_type": "stream",
          "text": [
            "[[6266 5006]\n",
            " [2658 8570]]\n",
            "              precision    recall  f1-score   support\n",
            "\n",
            "           0       0.70      0.56      0.62     11272\n",
            "           1       0.63      0.76      0.69     11228\n",
            "\n",
            "    accuracy                           0.66     22500\n",
            "   macro avg       0.67      0.66      0.66     22500\n",
            "weighted avg       0.67      0.66      0.66     22500\n",
            "\n"
          ],
          "name": "stdout"
        }
      ]
    },
    {
      "cell_type": "code",
      "metadata": {
        "id": "3WCXQLEQVg9e"
      },
      "source": [
        "from tensorflow.keras.metrics import Accuracy "
      ],
      "execution_count": 72,
      "outputs": []
    },
    {
      "cell_type": "code",
      "metadata": {
        "id": "lVBs8_zte3oA"
      },
      "source": [
        "def acc(y_true, y_pred):\n",
        "    return np.equal(y_true, y_pred.round()).mean()"
      ],
      "execution_count": 79,
      "outputs": []
    },
    {
      "cell_type": "code",
      "metadata": {
        "id": "hpqVYEqhgg29",
        "outputId": "830b41c9-3b97-4e4f-8338-85a306234412",
        "colab": {
          "base_uri": "https://localhost:8080/"
        }
      },
      "source": [
        "loss, accuracy = model.evaluate(X_new_pad, y_act, verbose=1)\n",
        "print(\"Test: accuracy = %f  ;  loss = %f\" % (accuracy, loss))"
      ],
      "execution_count": 81,
      "outputs": [
        {
          "output_type": "stream",
          "text": [
            "704/704 [==============================] - 22s 31ms/step - loss: 0.6139 - accuracy: 0.6594\n",
            "Test: accuracy = 0.659378  ;  loss = 0.613852\n"
          ],
          "name": "stdout"
        }
      ]
    }
  ]
}