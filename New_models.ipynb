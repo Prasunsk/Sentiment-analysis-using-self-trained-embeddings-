{
  "nbformat": 4,
  "nbformat_minor": 0,
  "metadata": {
    "kernelspec": {
      "display_name": "Python 3",
      "language": "python",
      "name": "python3"
    },
    "language_info": {
      "codemirror_mode": {
        "name": "ipython",
        "version": 3
      },
      "file_extension": ".py",
      "mimetype": "text/x-python",
      "name": "python",
      "nbconvert_exporter": "python",
      "pygments_lexer": "ipython3",
      "version": "3.8.3"
    },
    "colab": {
      "name": "Question 3 and4.ipynb",
      "provenance": [],
      "collapsed_sections": []
    },
    "accelerator": "GPU"
  },
  "cells": [
    {
      "cell_type": "code",
      "metadata": {
        "id": "rFcu4G5hU3H4",
        "outputId": "8979182a-6a10-4c6e-bf05-f1a84ba71b2e",
        "colab": {
          "base_uri": "https://localhost:8080/"
        }
      },
      "source": [
        "from google.colab import drive\n",
        "drive.mount('/content/drive')"
      ],
      "execution_count": 1,
      "outputs": [
        {
          "output_type": "stream",
          "text": [
            "Mounted at /content/drive\n"
          ],
          "name": "stdout"
        }
      ]
    },
    {
      "cell_type": "code",
      "metadata": {
        "id": "lfLOUcDD8saF",
        "outputId": "3d617d84-0ab9-4a52-d587-4e47a60295a8",
        "colab": {
          "base_uri": "https://localhost:8080/"
        }
      },
      "source": [
        "import numpy as np # linear algebra\n",
        "import pandas as pd # data processing, CSV file I/O (e.g. pd.read_csv)\n",
        "import re\n",
        "import nltk\n",
        "from nltk.corpus import stopwords\n",
        "nltk.download('wordnet')\n",
        "nltk.download('stopwords')\n",
        "from keras.preprocessing.text import Tokenizer\n",
        "from matplotlib import pyplot "
      ],
      "execution_count": 2,
      "outputs": [
        {
          "output_type": "stream",
          "text": [
            "[nltk_data] Downloading package wordnet to /root/nltk_data...\n",
            "[nltk_data]   Unzipping corpora/wordnet.zip.\n",
            "[nltk_data] Downloading package stopwords to /root/nltk_data...\n",
            "[nltk_data]   Unzipping corpora/stopwords.zip.\n"
          ],
          "name": "stdout"
        }
      ]
    },
    {
      "cell_type": "code",
      "metadata": {
        "id": "NxBZt1aG8sbn",
        "outputId": "6c66c8ce-5152-4952-8ff4-1790bc75d808",
        "colab": {
          "base_uri": "https://localhost:8080/",
          "height": 196
        }
      },
      "source": [
        "data_path = '/content/drive/My Drive/AML_Assignment_2/IMDB Dataset.csv'\n",
        "train=pd.read_csv(data_path)\n",
        "train.head()"
      ],
      "execution_count": 3,
      "outputs": [
        {
          "output_type": "execute_result",
          "data": {
            "text/html": [
              "<div>\n",
              "<style scoped>\n",
              "    .dataframe tbody tr th:only-of-type {\n",
              "        vertical-align: middle;\n",
              "    }\n",
              "\n",
              "    .dataframe tbody tr th {\n",
              "        vertical-align: top;\n",
              "    }\n",
              "\n",
              "    .dataframe thead th {\n",
              "        text-align: right;\n",
              "    }\n",
              "</style>\n",
              "<table border=\"1\" class=\"dataframe\">\n",
              "  <thead>\n",
              "    <tr style=\"text-align: right;\">\n",
              "      <th></th>\n",
              "      <th>review</th>\n",
              "      <th>sentiment</th>\n",
              "    </tr>\n",
              "  </thead>\n",
              "  <tbody>\n",
              "    <tr>\n",
              "      <th>0</th>\n",
              "      <td>One of the other reviewers has mentioned that ...</td>\n",
              "      <td>positive</td>\n",
              "    </tr>\n",
              "    <tr>\n",
              "      <th>1</th>\n",
              "      <td>A wonderful little production. &lt;br /&gt;&lt;br /&gt;The...</td>\n",
              "      <td>positive</td>\n",
              "    </tr>\n",
              "    <tr>\n",
              "      <th>2</th>\n",
              "      <td>I thought this was a wonderful way to spend ti...</td>\n",
              "      <td>positive</td>\n",
              "    </tr>\n",
              "    <tr>\n",
              "      <th>3</th>\n",
              "      <td>Basically there's a family where a little boy ...</td>\n",
              "      <td>negative</td>\n",
              "    </tr>\n",
              "    <tr>\n",
              "      <th>4</th>\n",
              "      <td>Petter Mattei's \"Love in the Time of Money\" is...</td>\n",
              "      <td>positive</td>\n",
              "    </tr>\n",
              "  </tbody>\n",
              "</table>\n",
              "</div>"
            ],
            "text/plain": [
              "                                              review sentiment\n",
              "0  One of the other reviewers has mentioned that ...  positive\n",
              "1  A wonderful little production. <br /><br />The...  positive\n",
              "2  I thought this was a wonderful way to spend ti...  positive\n",
              "3  Basically there's a family where a little boy ...  negative\n",
              "4  Petter Mattei's \"Love in the Time of Money\" is...  positive"
            ]
          },
          "metadata": {
            "tags": []
          },
          "execution_count": 3
        }
      ]
    },
    {
      "cell_type": "code",
      "metadata": {
        "id": "SCfk5ifW8scb"
      },
      "source": [
        "y_train = train[\"sentiment\"].map({\"negative\": 0, \"positive\": 1})\n",
        "X = train[\"review\"]"
      ],
      "execution_count": 4,
      "outputs": []
    },
    {
      "cell_type": "code",
      "metadata": {
        "id": "XR5xNCNS8sdO",
        "outputId": "271ca239-fbde-4f13-e7a6-161666c3161a",
        "colab": {
          "base_uri": "https://localhost:8080/",
          "height": 196
        }
      },
      "source": [
        "train.head()"
      ],
      "execution_count": 5,
      "outputs": [
        {
          "output_type": "execute_result",
          "data": {
            "text/html": [
              "<div>\n",
              "<style scoped>\n",
              "    .dataframe tbody tr th:only-of-type {\n",
              "        vertical-align: middle;\n",
              "    }\n",
              "\n",
              "    .dataframe tbody tr th {\n",
              "        vertical-align: top;\n",
              "    }\n",
              "\n",
              "    .dataframe thead th {\n",
              "        text-align: right;\n",
              "    }\n",
              "</style>\n",
              "<table border=\"1\" class=\"dataframe\">\n",
              "  <thead>\n",
              "    <tr style=\"text-align: right;\">\n",
              "      <th></th>\n",
              "      <th>review</th>\n",
              "      <th>sentiment</th>\n",
              "    </tr>\n",
              "  </thead>\n",
              "  <tbody>\n",
              "    <tr>\n",
              "      <th>0</th>\n",
              "      <td>One of the other reviewers has mentioned that ...</td>\n",
              "      <td>positive</td>\n",
              "    </tr>\n",
              "    <tr>\n",
              "      <th>1</th>\n",
              "      <td>A wonderful little production. &lt;br /&gt;&lt;br /&gt;The...</td>\n",
              "      <td>positive</td>\n",
              "    </tr>\n",
              "    <tr>\n",
              "      <th>2</th>\n",
              "      <td>I thought this was a wonderful way to spend ti...</td>\n",
              "      <td>positive</td>\n",
              "    </tr>\n",
              "    <tr>\n",
              "      <th>3</th>\n",
              "      <td>Basically there's a family where a little boy ...</td>\n",
              "      <td>negative</td>\n",
              "    </tr>\n",
              "    <tr>\n",
              "      <th>4</th>\n",
              "      <td>Petter Mattei's \"Love in the Time of Money\" is...</td>\n",
              "      <td>positive</td>\n",
              "    </tr>\n",
              "  </tbody>\n",
              "</table>\n",
              "</div>"
            ],
            "text/plain": [
              "                                              review sentiment\n",
              "0  One of the other reviewers has mentioned that ...  positive\n",
              "1  A wonderful little production. <br /><br />The...  positive\n",
              "2  I thought this was a wonderful way to spend ti...  positive\n",
              "3  Basically there's a family where a little boy ...  negative\n",
              "4  Petter Mattei's \"Love in the Time of Money\" is...  positive"
            ]
          },
          "metadata": {
            "tags": []
          },
          "execution_count": 5
        }
      ]
    },
    {
      "cell_type": "code",
      "metadata": {
        "id": "FJAGesrF8sdw",
        "outputId": "ffdaba5b-7f16-4f90-aeef-fb7bdaaf95a7",
        "colab": {
          "base_uri": "https://localhost:8080/"
        }
      },
      "source": [
        "stopwords_eng = set(stopwords.words(\"english\"))\n",
        "#Removing the html strips\n",
        "def strip_html(text):\n",
        "    p = re.compile(r'<.*?>')\n",
        "    return p.sub('', text)\n",
        "\n",
        "\n",
        "def clean_text(text):\n",
        "    text = text.lower() # convert to lowercase\n",
        "    text = strip_html(text)\n",
        "    text = re.sub('\\[[^]]*\\]', '', text)\n",
        "    text = re.sub(\"[^a-z]\", \" \", text)\n",
        "    words = [word for word in text.split() if word not in stopwords_eng]\n",
        "    text = \" \".join(words)\n",
        "    return text\n",
        "\n",
        "X_train = X.map(clean_text)\n",
        "X_train.head()"
      ],
      "execution_count": 6,
      "outputs": [
        {
          "output_type": "execute_result",
          "data": {
            "text/plain": [
              "0    one reviewers mentioned watching oz episode ho...\n",
              "1    wonderful little production filming technique ...\n",
              "2    thought wonderful way spend time hot summer we...\n",
              "3    basically family little boy jake thinks zombie...\n",
              "4    petter mattei love time money visually stunnin...\n",
              "Name: review, dtype: object"
            ]
          },
          "metadata": {
            "tags": []
          },
          "execution_count": 6
        }
      ]
    },
    {
      "cell_type": "code",
      "metadata": {
        "id": "5-BNXS5i8seV",
        "outputId": "e95b00ae-ff50-49fe-9bbc-1bb9bdec12b9",
        "colab": {
          "base_uri": "https://localhost:8080/"
        }
      },
      "source": [
        "num_words = 6000\n",
        "tokenizer = Tokenizer(num_words=num_words)\n",
        "\n",
        "tokenizer.fit_on_texts(X_train)\n",
        "\n",
        "X_train_seq = pd.Series(tokenizer.texts_to_sequences(X_train))\n",
        "X_train_seq.head()"
      ],
      "execution_count": 7,
      "outputs": [
        {
          "output_type": "execute_result",
          "data": {
            "text/plain": [
              "0    [3, 1897, 916, 55, 2915, 275, 3029, 98, 486, 4...\n",
              "1    [271, 41, 234, 1228, 2807, 61, 6, 1999, 1430, ...\n",
              "2    [89, 271, 22, 1003, 6, 725, 1317, 2429, 1088, ...\n",
              "3    [550, 119, 41, 278, 3174, 1101, 850, 4036, 628...\n",
              "4    [33, 6, 176, 1974, 1273, 2, 27, 314, 1414, 76,...\n",
              "dtype: object"
            ]
          },
          "metadata": {
            "tags": []
          },
          "execution_count": 7
        }
      ]
    },
    {
      "cell_type": "code",
      "metadata": {
        "id": "ty0HPszR8sez",
        "outputId": "185e83ea-5a6f-41ef-c5cd-15eff05a1caa",
        "colab": {
          "base_uri": "https://localhost:8080/"
        }
      },
      "source": [
        "X_train_len = X_train_seq.map(lambda ls: len(ls))\n",
        "X_train_len.describe()"
      ],
      "execution_count": 8,
      "outputs": [
        {
          "output_type": "execute_result",
          "data": {
            "text/plain": [
              "count    50000.000000\n",
              "mean        99.489800\n",
              "std         72.206902\n",
              "min          3.000000\n",
              "25%         55.000000\n",
              "50%         75.000000\n",
              "75%        121.000000\n",
              "max        967.000000\n",
              "dtype: float64"
            ]
          },
          "metadata": {
            "tags": []
          },
          "execution_count": 8
        }
      ]
    },
    {
      "cell_type": "code",
      "metadata": {
        "scrolled": true,
        "id": "22hxseSa8sfh",
        "outputId": "17c60ac4-97a3-4a7f-da85-e0c92eb78865",
        "colab": {
          "base_uri": "https://localhost:8080/",
          "height": 300
        }
      },
      "source": [
        "# Summarize review length\n",
        "print(\"Review length: \")\n",
        "result = [len(x) for x in X_train]\n",
        "print(\"Mean %.2f words (%f)\" % (np.mean(result), np.std(result)))\n",
        "# plot review length\n",
        "pyplot.boxplot(result)\n",
        "pyplot.show()"
      ],
      "execution_count": null,
      "outputs": [
        {
          "output_type": "stream",
          "text": [
            "Review length: \n",
            "Mean 813.93 words (631.115546)\n"
          ],
          "name": "stdout"
        },
        {
          "output_type": "display_data",
          "data": {
            "image/png": "[encoded data removed]",
            "text/plain": [
              "<Figure size 432x288 with 1 Axes>"
            ]
          },
          "metadata": {
            "tags": [],
            "needs_background": "light"
          }
        }
      ]
    },
    {
      "cell_type": "code",
      "metadata": {
        "id": "_6a3zBFL8sgG",
        "outputId": "d163cc7f-7c05-456e-f1d9-2d6c6252eb43",
        "colab": {
          "base_uri": "https://localhost:8080/"
        }
      },
      "source": [
        "from keras.preprocessing.sequence import pad_sequences\n",
        "\n",
        "X_train_pad = pad_sequences(X_train_seq, maxlen=2000)\n",
        "X_train_pad"
      ],
      "execution_count": 9,
      "outputs": [
        {
          "output_type": "execute_result",
          "data": {
            "text/plain": [
              "array([[   0,    0,    0, ..., 1065, 3915,  356],\n",
              "       [   0,    0,    0, ..., 1811,   12,  113],\n",
              "       [   0,    0,    0, ...,   51,   11,  232],\n",
              "       ...,\n",
              "       [   0,    0,    0, ...,  365, 3801, 5760],\n",
              "       [   0,    0,    0, ..., 1919, 3999,  595],\n",
              "       [   0,    0,    0, ..., 4263,  652,    1]], dtype=int32)"
            ]
          },
          "metadata": {
            "tags": []
          },
          "execution_count": 9
        }
      ]
    },
    {
      "cell_type": "code",
      "metadata": {
        "id": "AUzJhzTMgJFD"
      },
      "source": [
        "drop=0.5            #factor by whcih LR drops after every epoch\n",
        "epochs_drop=1.0     #number of epochs after which the LR must decrease\n",
        "initial_lr=0.01 "
      ],
      "execution_count": 10,
      "outputs": []
    },
    {
      "cell_type": "code",
      "metadata": {
        "id": "Y0euGlFMgdAE"
      },
      "source": [
        "import math\n",
        "from tensorflow.keras.callbacks import LearningRateScheduler\n",
        "decay_rate=[]\n",
        "def step_decay(epoch):\n",
        "  lr=initial_lr*math.pow(drop, math.floor((1+epoch)/epochs_drop))\n",
        "  decay_rate.append(lr)\n",
        "\n",
        "  return lr\n",
        "\n",
        "lr=LearningRateScheduler(step_decay)\n",
        "callback=[lr]"
      ],
      "execution_count": 11,
      "outputs": []
    },
    {
      "cell_type": "code",
      "metadata": {
        "id": "X-1WamWb8sgi"
      },
      "source": [
        "from keras.models import Sequential\n",
        "from keras.layers import Embedding, LSTM, Dense, GlobalMaxPool1D, Dropout"
      ],
      "execution_count": 12,
      "outputs": []
    },
    {
      "cell_type": "markdown",
      "metadata": {
        "id": "0X5k333LWwKB"
      },
      "source": [
        "#USING 2 DENSE LAYERS"
      ]
    },
    {
      "cell_type": "code",
      "metadata": {
        "id": "mhRAvFcHdhv9",
        "outputId": "02c8c214-c7d3-405f-fffc-d9102dcd26ec",
        "colab": {
          "base_uri": "https://localhost:8080/"
        }
      },
      "source": [
        "from keras.models import Sequential\n",
        "from keras.layers import Embedding, LSTM, Dense, GlobalMaxPool1D, Dropout\n",
        "\n",
        "model = Sequential()\n",
        "\n",
        "model.add(Embedding(input_dim=num_words, output_dim=64))\n",
        "model.add(LSTM(32, return_sequences=True))\n",
        "#model.add(LSTM(32))\n",
        "model.add(GlobalMaxPool1D())\n",
        "\n",
        "model.add(Dense(16, activation='relu'))\n",
        "model.add(Dropout(0.2))\n",
        "model.add(Dense(1, activation='sigmoid'))\n",
        "\n",
        "model.summary()"
      ],
      "execution_count": 13,
      "outputs": [
        {
          "output_type": "stream",
          "text": [
            "Model: \"sequential\"\n",
            "_________________________________________________________________\n",
            "Layer (type)                 Output Shape              Param #   \n",
            "=================================================================\n",
            "embedding (Embedding)        (None, None, 64)          384000    \n",
            "_________________________________________________________________\n",
            "lstm (LSTM)                  (None, None, 32)          12416     \n",
            "_________________________________________________________________\n",
            "global_max_pooling1d (Global (None, 32)                0         \n",
            "_________________________________________________________________\n",
            "dense (Dense)                (None, 16)                528       \n",
            "_________________________________________________________________\n",
            "dropout (Dropout)            (None, 16)                0         \n",
            "_________________________________________________________________\n",
            "dense_1 (Dense)              (None, 1)                 17        \n",
            "=================================================================\n",
            "Total params: 396,961\n",
            "Trainable params: 396,961\n",
            "Non-trainable params: 0\n",
            "_________________________________________________________________\n"
          ],
          "name": "stdout"
        }
      ]
    },
    {
      "cell_type": "code",
      "metadata": {
        "id": "3ezRegcqdu8O"
      },
      "source": [
        "model.compile(loss=\"binary_crossentropy\", optimizer='adam', metrics=['accuracy'])"
      ],
      "execution_count": 14,
      "outputs": []
    },
    {
      "cell_type": "code",
      "metadata": {
        "id": "MzVY0TfidwRA",
        "outputId": "8bc0059a-9bcb-47b6-b70c-819455ec89f7",
        "colab": {
          "base_uri": "https://localhost:8080/"
        }
      },
      "source": [
        "batch_size = 32\n",
        "epochs = 10\n",
        "validation_split = 0.1\n",
        "model.fit(x=X_train_pad, y=y_train, batch_size=batch_size, epochs=epochs, validation_split=validation_split)"
      ],
      "execution_count": 15,
      "outputs": [
        {
          "output_type": "stream",
          "text": [
            "Epoch 1/10\n",
            "1407/1407 [==============================] - 102s 73ms/step - loss: 0.3592 - accuracy: 0.8460 - val_loss: 0.2891 - val_accuracy: 0.8808\n",
            "Epoch 2/10\n",
            "1407/1407 [==============================] - 100s 71ms/step - loss: 0.2446 - accuracy: 0.9066 - val_loss: 0.2855 - val_accuracy: 0.8836\n",
            "Epoch 3/10\n",
            "1407/1407 [==============================] - 98s 70ms/step - loss: 0.2008 - accuracy: 0.9263 - val_loss: 0.3033 - val_accuracy: 0.8778\n",
            "Epoch 4/10\n",
            "1407/1407 [==============================] - 102s 73ms/step - loss: 0.1588 - accuracy: 0.9450 - val_loss: 0.3195 - val_accuracy: 0.8816\n",
            "Epoch 5/10\n",
            "1407/1407 [==============================] - 101s 72ms/step - loss: 0.1202 - accuracy: 0.9606 - val_loss: 0.3481 - val_accuracy: 0.8708\n",
            "Epoch 6/10\n",
            "1407/1407 [==============================] - 103s 73ms/step - loss: 0.0896 - accuracy: 0.9712 - val_loss: 0.4158 - val_accuracy: 0.8744\n",
            "Epoch 7/10\n",
            "1407/1407 [==============================] - 106s 75ms/step - loss: 0.0595 - accuracy: 0.9818 - val_loss: 0.5040 - val_accuracy: 0.8726\n",
            "Epoch 8/10\n",
            "1407/1407 [==============================] - 107s 76ms/step - loss: 0.0447 - accuracy: 0.9862 - val_loss: 0.5354 - val_accuracy: 0.8728\n",
            "Epoch 9/10\n",
            "1407/1407 [==============================] - 108s 77ms/step - loss: 0.0319 - accuracy: 0.9904 - val_loss: 0.6066 - val_accuracy: 0.8724\n",
            "Epoch 10/10\n",
            "1407/1407 [==============================] - 109s 77ms/step - loss: 0.0258 - accuracy: 0.9921 - val_loss: 0.6336 - val_accuracy: 0.8702\n"
          ],
          "name": "stdout"
        },
        {
          "output_type": "execute_result",
          "data": {
            "text/plain": [
              "<tensorflow.python.keras.callbacks.History at 0x7fee304505f8>"
            ]
          },
          "metadata": {
            "tags": []
          },
          "execution_count": 15
        }
      ]
    },
    {
      "cell_type": "markdown",
      "metadata": {
        "id": "gu04GZF7d86a"
      },
      "source": [
        "##Using LR Scheduling with 2-dense layer model "
      ]
    },
    {
      "cell_type": "code",
      "metadata": {
        "id": "KH9aC_zYhJ3a",
        "outputId": "7310e954-0bf3-437a-9902-76b29e37d4be",
        "colab": {
          "base_uri": "https://localhost:8080/"
        }
      },
      "source": [
        "model_lr = Sequential()\n",
        "\n",
        "model_lr.add(Embedding(input_dim=num_words, output_dim=64))\n",
        "model_lr.add(LSTM(32,dropout=0.3, return_sequences=True))\n",
        "model_lr.add(GlobalMaxPool1D())\n",
        "model_lr.add(Dense(16, activation='relu'))\n",
        "model_lr.add(Dropout(0.2))\n",
        "model_lr.add(Dense(1, activation='sigmoid'))\n",
        "model_lr.summary()"
      ],
      "execution_count": 16,
      "outputs": [
        {
          "output_type": "stream",
          "text": [
            "Model: \"sequential_1\"\n",
            "_________________________________________________________________\n",
            "Layer (type)                 Output Shape              Param #   \n",
            "=================================================================\n",
            "embedding_1 (Embedding)      (None, None, 64)          384000    \n",
            "_________________________________________________________________\n",
            "lstm_1 (LSTM)                (None, None, 32)          12416     \n",
            "_________________________________________________________________\n",
            "global_max_pooling1d_1 (Glob (None, 32)                0         \n",
            "_________________________________________________________________\n",
            "dense_2 (Dense)              (None, 16)                528       \n",
            "_________________________________________________________________\n",
            "dropout_1 (Dropout)          (None, 16)                0         \n",
            "_________________________________________________________________\n",
            "dense_3 (Dense)              (None, 1)                 17        \n",
            "=================================================================\n",
            "Total params: 396,961\n",
            "Trainable params: 396,961\n",
            "Non-trainable params: 0\n",
            "_________________________________________________________________\n"
          ],
          "name": "stdout"
        }
      ]
    },
    {
      "cell_type": "code",
      "metadata": {
        "id": "3m-GUKhbh4v3"
      },
      "source": [
        "model_lr.compile(loss=\"binary_crossentropy\", optimizer='adam', metrics=['accuracy'])"
      ],
      "execution_count": 17,
      "outputs": []
    },
    {
      "cell_type": "code",
      "metadata": {
        "id": "9bnsxDcMiXNJ",
        "outputId": "c39ea959-674d-459b-8005-3772f7c1418f",
        "colab": {
          "base_uri": "https://localhost:8080/"
        }
      },
      "source": [
        "batch_size = 32\n",
        "epochs = 5\n",
        "validation_split = 0.1\n",
        "model_lr.fit(x=X_train_pad, y=y_train, batch_size=batch_size, epochs=epochs, validation_split=validation_split,callbacks=callback)"
      ],
      "execution_count": 18,
      "outputs": [
        {
          "output_type": "stream",
          "text": [
            "Epoch 1/5\n",
            "1407/1407 [==============================] - 110s 78ms/step - loss: 0.3514 - accuracy: 0.8478 - val_loss: 0.2883 - val_accuracy: 0.8850\n",
            "Epoch 2/5\n",
            "1407/1407 [==============================] - 106s 75ms/step - loss: 0.2229 - accuracy: 0.9155 - val_loss: 0.2905 - val_accuracy: 0.8860\n",
            "Epoch 3/5\n",
            "1407/1407 [==============================] - 104s 74ms/step - loss: 0.1632 - accuracy: 0.9418 - val_loss: 0.3131 - val_accuracy: 0.8878\n",
            "Epoch 4/5\n",
            "1407/1407 [==============================] - 104s 74ms/step - loss: 0.1243 - accuracy: 0.9589 - val_loss: 0.3410 - val_accuracy: 0.8888\n",
            "Epoch 5/5\n",
            "1407/1407 [==============================] - 102s 73ms/step - loss: 0.1039 - accuracy: 0.9668 - val_loss: 0.3664 - val_accuracy: 0.8846\n"
          ],
          "name": "stdout"
        },
        {
          "output_type": "execute_result",
          "data": {
            "text/plain": [
              "<tensorflow.python.keras.callbacks.History at 0x7feddc149e48>"
            ]
          },
          "metadata": {
            "tags": []
          },
          "execution_count": 18
        }
      ]
    },
    {
      "cell_type": "code",
      "metadata": {
        "id": "-5bkXCglkgE-"
      },
      "source": [
        ""
      ],
      "execution_count": null,
      "outputs": []
    },
    {
      "cell_type": "markdown",
      "metadata": {
        "id": "8tlFo1J9XTSP"
      },
      "source": [
        "#USING STACKED LSTM"
      ]
    },
    {
      "cell_type": "code",
      "metadata": {
        "id": "Qz2sh41NgHQ0",
        "outputId": "1cbc334b-22e3-44a2-82fd-c2cb33d9a994",
        "colab": {
          "base_uri": "https://localhost:8080/"
        }
      },
      "source": [
        "model_1 = Sequential()\n",
        "\n",
        "model_1.add(Embedding(input_dim=num_words, output_dim=64))\n",
        "model_1.add(LSTM(32, return_sequences=True))\n",
        "model_1.add(LSTM(32))\n",
        "model_1.add(Dropout(0.2))\n",
        "model_1.add(Dense(1, activation='sigmoid'))\n",
        "\n",
        "model_1.summary()"
      ],
      "execution_count": 20,
      "outputs": [
        {
          "output_type": "stream",
          "text": [
            "Model: \"sequential_2\"\n",
            "_________________________________________________________________\n",
            "Layer (type)                 Output Shape              Param #   \n",
            "=================================================================\n",
            "embedding_2 (Embedding)      (None, None, 64)          384000    \n",
            "_________________________________________________________________\n",
            "lstm_2 (LSTM)                (None, None, 32)          12416     \n",
            "_________________________________________________________________\n",
            "lstm_3 (LSTM)                (None, 32)                8320      \n",
            "_________________________________________________________________\n",
            "dropout_2 (Dropout)          (None, 32)                0         \n",
            "_________________________________________________________________\n",
            "dense_4 (Dense)              (None, 1)                 33        \n",
            "=================================================================\n",
            "Total params: 404,769\n",
            "Trainable params: 404,769\n",
            "Non-trainable params: 0\n",
            "_________________________________________________________________\n"
          ],
          "name": "stdout"
        }
      ]
    },
    {
      "cell_type": "code",
      "metadata": {
        "id": "MJyjIzebgOcG"
      },
      "source": [
        "model_1.compile(loss=\"binary_crossentropy\", optimizer='adam', metrics=['accuracy'])"
      ],
      "execution_count": 21,
      "outputs": []
    },
    {
      "cell_type": "code",
      "metadata": {
        "id": "Uxte1DIugRcC",
        "outputId": "a2640603-2f3e-4724-8fdb-df964d40f209",
        "colab": {
          "base_uri": "https://localhost:8080/"
        }
      },
      "source": [
        "batch_size = 32\n",
        "epochs = 5\n",
        "validation_split = 0.1\n",
        "model_1.fit(x=X_train_pad, y=y_train, batch_size=batch_size, epochs=epochs, validation_split=validation_split)"
      ],
      "execution_count": null,
      "outputs": [
        {
          "output_type": "stream",
          "text": [
            "Epoch 1/5\n",
            "1407/1407 [==============================] - 181s 129ms/step - loss: 0.3424 - accuracy: 0.8526 - val_loss: 0.2895 - val_accuracy: 0.8790\n",
            "Epoch 2/5\n",
            "1407/1407 [==============================] - 175s 125ms/step - loss: 0.2396 - accuracy: 0.9047 - val_loss: 0.2854 - val_accuracy: 0.8868\n",
            "Epoch 3/5\n",
            "1407/1407 [==============================] - 176s 125ms/step - loss: 0.1962 - accuracy: 0.9256 - val_loss: 0.3194 - val_accuracy: 0.8836\n",
            "Epoch 4/5\n",
            "1407/1407 [==============================] - 192s 137ms/step - loss: 0.1599 - accuracy: 0.9394 - val_loss: 0.3233 - val_accuracy: 0.8786\n",
            "Epoch 5/5\n",
            "1141/1407 [=======================>......] - ETA: 35s - loss: 0.1311 - accuracy: 0.9526"
          ],
          "name": "stdout"
        }
      ]
    },
    {
      "cell_type": "markdown",
      "metadata": {
        "id": "3iYtFz1bgS54"
      },
      "source": [
        "##USING LR scheduling in STACKED LSTM model"
      ]
    },
    {
      "cell_type": "code",
      "metadata": {
        "id": "2xEA-59TlxB-",
        "outputId": "fc4c1ff8-0cfd-4644-cbae-0eadac9618f5",
        "colab": {
          "base_uri": "https://localhost:8080/"
        }
      },
      "source": [
        "model_1_lr = Sequential()\n",
        "\n",
        "model_1_lr.add(Embedding(input_dim=num_words, output_dim=64))\n",
        "model_1_lr.add(LSTM(32,dropout=0.3, return_sequences=True))\n",
        "model_1_lr.add(LSTM(32,dropout=0.3))\n",
        "model_1_lr.add(Dropout(0.2))\n",
        "model_1_lr.add(Dense(1, activation='sigmoid'))\n",
        "\n",
        "model_1_lr.summary()"
      ],
      "execution_count": 52,
      "outputs": [
        {
          "output_type": "stream",
          "text": [
            "Model: \"sequential_4\"\n",
            "_________________________________________________________________\n",
            "Layer (type)                 Output Shape              Param #   \n",
            "=================================================================\n",
            "embedding_4 (Embedding)      (None, None, 64)          384000    \n",
            "_________________________________________________________________\n",
            "lstm_6 (LSTM)                (None, None, 32)          12416     \n",
            "_________________________________________________________________\n",
            "lstm_7 (LSTM)                (None, 32)                8320      \n",
            "_________________________________________________________________\n",
            "dropout_4 (Dropout)          (None, 32)                0         \n",
            "_________________________________________________________________\n",
            "dense_6 (Dense)              (None, 1)                 33        \n",
            "=================================================================\n",
            "Total params: 404,769\n",
            "Trainable params: 404,769\n",
            "Non-trainable params: 0\n",
            "_________________________________________________________________\n"
          ],
          "name": "stdout"
        }
      ]
    },
    {
      "cell_type": "code",
      "metadata": {
        "id": "ObscvMVTqgen"
      },
      "source": [
        "model_1_lr.compile(loss=\"binary_crossentropy\", optimizer='adam', metrics=['accuracy'])"
      ],
      "execution_count": 53,
      "outputs": []
    },
    {
      "cell_type": "code",
      "metadata": {
        "id": "OYah8Mz1ql8a",
        "outputId": "92e52997-b9cf-4d43-fbb9-6201dcf2abed",
        "colab": {
          "base_uri": "https://localhost:8080/"
        }
      },
      "source": [
        "batch_size = 32\n",
        "epochs = 5\n",
        "validation_split = 0.1\n",
        "model_1_lr.fit(x=X_train_pad, y=y_train, batch_size=batch_size, epochs=epochs, validation_split=validation_split,callbacks=callback)"
      ],
      "execution_count": 54,
      "outputs": [
        {
          "output_type": "stream",
          "text": [
            "Epoch 1/5\n",
            "1407/1407 [==============================] - 177s 126ms/step - loss: 0.3774 - accuracy: 0.8396 - val_loss: 0.3018 - val_accuracy: 0.8744\n",
            "Epoch 2/5\n",
            "1407/1407 [==============================] - 178s 127ms/step - loss: 0.2436 - accuracy: 0.9051 - val_loss: 0.2692 - val_accuracy: 0.8878\n",
            "Epoch 3/5\n",
            "1407/1407 [==============================] - 178s 127ms/step - loss: 0.1907 - accuracy: 0.9281 - val_loss: 0.2778 - val_accuracy: 0.8950\n",
            "Epoch 4/5\n",
            "1407/1407 [==============================] - 178s 127ms/step - loss: 0.1528 - accuracy: 0.9444 - val_loss: 0.2943 - val_accuracy: 0.8944\n",
            "Epoch 5/5\n",
            "1407/1407 [==============================] - 180s 128ms/step - loss: 0.1294 - accuracy: 0.9545 - val_loss: 0.3212 - val_accuracy: 0.8946\n"
          ],
          "name": "stdout"
        },
        {
          "output_type": "execute_result",
          "data": {
            "text/plain": [
              "<tensorflow.python.keras.callbacks.History at 0x7fed9234c1d0>"
            ]
          },
          "metadata": {
            "tags": []
          },
          "execution_count": 54
        }
      ]
    },
    {
      "cell_type": "markdown",
      "metadata": {
        "id": "2eiHGWEwtbgK"
      },
      "source": [
        "#Testing on Rotten Tomatoes Dataset for sentiment analysis."
      ]
    },
    {
      "cell_type": "code",
      "metadata": {
        "id": "ByR2HsEArYZa"
      },
      "source": [
        "new_data=r'/content/drive/My Drive/AML_Assignment_2/rotten_tomatoes_reviews.csv'\n",
        "new=pd.read_csv(new_data)"
      ],
      "execution_count": 24,
      "outputs": []
    },
    {
      "cell_type": "code",
      "metadata": {
        "id": "De7aMXspzPxV",
        "outputId": "f0e3eec4-c92b-4b0e-9f13-9274e155fe5e",
        "colab": {
          "base_uri": "https://localhost:8080/"
        }
      },
      "source": [
        "X_new = new[\"Review\"][:22500]\n",
        "#X_new = X_new.map(clean_text)\n",
        "X_new.head()"
      ],
      "execution_count": 25,
      "outputs": [
        {
          "output_type": "execute_result",
          "data": {
            "text/plain": [
              "0     Manakamana doesn't answer any questions, yet ...\n",
              "1     Wilfully offensive and powered by a chest-thu...\n",
              "2     It would be difficult to imagine material mor...\n",
              "3     Despite the gusto its star brings to the role...\n",
              "4     If there was a good idea at the core of this ...\n",
              "Name: Review, dtype: object"
            ]
          },
          "metadata": {
            "tags": []
          },
          "execution_count": 25
        }
      ]
    },
    {
      "cell_type": "code",
      "metadata": {
        "id": "BYsUwX782MmO",
        "outputId": "3f960f38-0096-45eb-bb21-2ce3a7281b81",
        "colab": {
          "base_uri": "https://localhost:8080/"
        }
      },
      "source": [
        "X_new_seq = pd.Series(tokenizer.texts_to_sequences(X_new))\n",
        "X_new_seq.head()"
      ],
      "execution_count": 26,
      "outputs": [
        {
          "output_type": "execute_result",
          "data": {
            "text/plain": [
              "0    [1332, 1025, 133, 66, 111, 4, 249, 1135, 116, ...\n",
              "1                           [2303, 3934, 5, 1933, 134]\n",
              "2                    [8, 732, 673, 681, 236, 302, 143]\n",
              "3          [339, 205, 831, 108, 140, 1147, 4914, 3163]\n",
              "4    [5, 203, 1654, 2, 3456, 2438, 479, 642, 2299, ...\n",
              "dtype: object"
            ]
          },
          "metadata": {
            "tags": []
          },
          "execution_count": 26
        }
      ]
    },
    {
      "cell_type": "code",
      "metadata": {
        "id": "d9IPuw7K2dUK",
        "outputId": "e9e86006-7ecf-49c3-b069-20b1bc9adad4",
        "colab": {
          "base_uri": "https://localhost:8080/"
        }
      },
      "source": [
        "X_new_pad = pad_sequences(X_new_seq, maxlen=2000)\n",
        "X_new_pad"
      ],
      "execution_count": 27,
      "outputs": [
        {
          "output_type": "execute_result",
          "data": {
            "text/plain": [
              "array([[   0,    0,    0, ..., 1135,  116, 4650],\n",
              "       [   0,    0,    0, ...,    5, 1933,  134],\n",
              "       [   0,    0,    0, ...,  236,  302,  143],\n",
              "       ...,\n",
              "       [   0,    0,    0, ...,   11,    3, 1732],\n",
              "       [   0,    0,    0, ...,  101, 1953, 2871],\n",
              "       [   0,    0,    0, ..., 2919,  337, 2461]], dtype=int32)"
            ]
          },
          "metadata": {
            "tags": []
          },
          "execution_count": 27
        }
      ]
    },
    {
      "cell_type": "code",
      "metadata": {
        "id": "xlSW1bx_25Bn"
      },
      "source": [
        "y_pred=model_1_lr.predict(X_new_pad)"
      ],
      "execution_count": 55,
      "outputs": []
    },
    {
      "cell_type": "code",
      "metadata": {
        "id": "CEh9h9ZG4UOQ"
      },
      "source": [
        "y_act=new['Freshness'][:22500]"
      ],
      "execution_count": 56,
      "outputs": []
    },
    {
      "cell_type": "code",
      "metadata": {
        "id": "jUpJK8Xw29iC",
        "outputId": "32316e2a-12c0-4bf9-da2b-08a53bf7b5b5",
        "colab": {
          "base_uri": "https://localhost:8080/"
        }
      },
      "source": [
        "# Importing the dependancies\n",
        "from sklearn import metrics\n",
        "\n",
        "print(metrics.confusion_matrix(y_act, y_pred.round()))\n",
        "# Printing the precision and recall, among other metrics\n",
        "print(metrics.classification_report(y_act, y_pred.round()))"
      ],
      "execution_count": 57,
      "outputs": [
        {
          "output_type": "stream",
          "text": [
            "[[7577 3695]\n",
            " [3198 8030]]\n",
            "              precision    recall  f1-score   support\n",
            "\n",
            "           0       0.70      0.67      0.69     11272\n",
            "           1       0.68      0.72      0.70     11228\n",
            "\n",
            "    accuracy                           0.69     22500\n",
            "   macro avg       0.69      0.69      0.69     22500\n",
            "weighted avg       0.69      0.69      0.69     22500\n",
            "\n"
          ],
          "name": "stdout"
        }
      ]
    },
    {
      "cell_type": "code",
      "metadata": {
        "id": "-H8On4I85VI0",
        "outputId": "fbbc04c0-8174-4dbc-d5a7-ece9ac6bc596",
        "colab": {
          "base_uri": "https://localhost:8080/",
          "height": 312
        }
      },
      "source": [
        "from sklearn.metrics import roc_auc_score, roc_curve\n",
        "import matplotlib.pyplot as plt\n",
        "fpr, tpr, thresholds = roc_curve(y_act, y_pred)\n",
        "plt.plot(fpr, tpr)\n",
        "plt.title('ROC curve')\n",
        "plt.xlabel('False Positive Rate')\n",
        "plt.ylabel('True Positive Rate')\n",
        "print('Area under the Receiver Operating Characteristic curve:', \n",
        "      roc_auc_score(y_act, y_pred))"
      ],
      "execution_count": 58,
      "outputs": [
        {
          "output_type": "stream",
          "text": [
            "Area under the Receiver Operating Characteristic curve: 0.7610502467027705\n"
          ],
          "name": "stdout"
        },
        {
          "output_type": "display_data",
          "data": {
            "image/png": "[encoded data removed]",
            "text/plain": [
              "<Figure size 432x288 with 1 Axes>"
            ]
          },
          "metadata": {
            "tags": [],
            "needs_background": "light"
          }
        }
      ]
    },
    {
      "cell_type": "code",
      "metadata": {
        "id": "8FYaLndAkspz",
        "outputId": "b19e5d43-ce74-4495-a1d8-96ffe1eb4df7",
        "colab": {
          "base_uri": "https://localhost:8080/"
        }
      },
      "source": [
        "loss, accuracy = model_1_lr.evaluate(X_new_pad, y_act[:22500], verbose=1)\n",
        "print(\"Test: accuracy = %f  ;  loss = %f\" % (accuracy, loss))"
      ],
      "execution_count": 59,
      "outputs": [
        {
          "output_type": "stream",
          "text": [
            "704/704 [==============================] - 42s 59ms/step - loss: 0.7196 - accuracy: 0.6936\n",
            "Test: accuracy = 0.693644  ;  loss = 0.719641\n"
          ],
          "name": "stdout"
        }
      ]
    }
  ]
}